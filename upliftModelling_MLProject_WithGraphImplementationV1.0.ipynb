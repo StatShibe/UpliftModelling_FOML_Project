{
 "cells": [
  {
   "cell_type": "code",
   "execution_count": 1,
   "id": "ea25ed6d",
   "metadata": {},
   "outputs": [
    {
     "name": "stderr",
     "output_type": "stream",
     "text": [
      "C:\\Users\\Haresh\\anaconda3\\lib\\site-packages\\xgboost\\compat.py:36: FutureWarning: pandas.Int64Index is deprecated and will be removed from pandas in a future version. Use pandas.Index with the appropriate dtype instead.\n",
      "  from pandas import MultiIndex, Int64Index\n"
     ]
    }
   ],
   "source": [
    "import pandas as pd\n",
    "%matplotlib inline\n",
    "import matplotlib.pyplot as plt\n",
    "import numpy as np\n",
    "import seaborn as sns\n",
    "from sklearn.cluster import KMeans\n",
    "import sklearn\n",
    "import xgboost as xgb\n",
    "from sklearn.model_selection import KFold, cross_val_score, train_test_split"
   ]
  },
  {
   "cell_type": "code",
   "execution_count": 2,
   "id": "c64c425e",
   "metadata": {},
   "outputs": [],
   "source": [
    "#function to order clusters\n",
    "def order_cluster(cluster_field_name, target_field_name,df,ascending):\n",
    "    new_cluster_field_name = 'new_' + cluster_field_name\n",
    "    df_new = df.groupby(cluster_field_name)[target_field_name].mean().reset_index()\n",
    "    df_new = df_new.sort_values(by=target_field_name,ascending=ascending).reset_index(drop=True)\n",
    "    df_new['index'] = df_new.index\n",
    "    df_final = pd.merge(df,df_new[[cluster_field_name,'index']], on=cluster_field_name)\n",
    "    df_final = df_final.drop([cluster_field_name],axis=1)\n",
    "    df_final = df_final.rename(columns={\"index\":cluster_field_name})\n",
    "    return df_final"
   ]
  },
  {
   "cell_type": "code",
   "execution_count": 3,
   "id": "77074cc2",
   "metadata": {},
   "outputs": [],
   "source": [
    "#function for calculating the uplift\n",
    "def bogo_calc_uplift(df):\n",
    "    avg_order_value = 25\n",
    "    #calculate conversions for each offer type\n",
    "    base_conv = df[df.offer == 'No Offer']['conversion'].mean()\n",
    "    bogo_conv = df[df.offer == 'Buy One Get One']['conversion'].mean()\n",
    "    #calculate conversion uplift for discount and bogo\n",
    "    bogo_conv_uplift = bogo_conv - base_conv\n",
    "    #calculate order uplift\n",
    "    bogo_order_uplift = bogo_conv_uplift * len(df[df.offer == 'Buy One Get One']['conversion'])\n",
    "    #calculate revenue uplift\n",
    "    bogo_rev_uplift = bogo_order_uplift * avg_order_value   \n",
    "    \n",
    "    print('BOGO Conversion Uplift: {0}%'.format(np.round(bogo_conv_uplift*100,2)))\n",
    "    print('BOGO Order Uplift: {0}'.format(np.round(bogo_order_uplift,2)))\n",
    "    print('BOGO Revenue Uplift: ${0}'.format(np.round(bogo_rev_uplift,2)))   \n",
    "    \n",
    "    bogo_conv_uplift = format(np.round(bogo_conv_uplift*100,2))\n",
    "    bogo_order_uplift = format(np.round(bogo_order_uplift,2))\n",
    "    bogo_rev_uplift = format(np.round(bogo_rev_uplift,2))\n",
    "    \n",
    "    return bogo_conv_uplift, bogo_order_uplift, bogo_rev_uplift\n",
    "\n",
    "def discount_calc_uplift(df):\n",
    "    avg_order_value = 25\n",
    "    base_conv = df[df.offer == 'No Offer']['conversion'].mean()\n",
    "    disc_conv = df[df.offer == 'Discount']['conversion'].mean()\n",
    "    disc_conv_uplift = disc_conv - base_conv\n",
    "    disc_order_uplift = disc_conv_uplift * len(df[df.offer == 'Discount']['conversion'])\n",
    "    disc_rev_uplift = disc_order_uplift * avg_order_value\n",
    "    \n",
    "    print('Discount Conversion Uplift: {0}%'.format(np.round(disc_conv_uplift*100,2)))\n",
    "    print('Discount Order Uplift: {0}'.format(np.round(disc_order_uplift,2)))\n",
    "    print('Discount Revenue Uplift: ${0}\\n'.format(np.round(disc_rev_uplift,2)))\n",
    "        \n",
    "    disc_conv_uplift = format(np.round(disc_conv_uplift*100,2))\n",
    "    disc_order_uplift = format(np.round(disc_order_uplift,2))\n",
    "    disc_rev_uplift = format(np.round(disc_rev_uplift,2))\n",
    "        \n",
    "    return disc_conv_uplift, disc_order_uplift, disc_rev_uplift\n",
    "     "
   ]
  },
  {
   "cell_type": "code",
   "execution_count": 4,
   "id": "cd924bb6",
   "metadata": {},
   "outputs": [
    {
     "data": {
      "text/plain": [
       "recency          64000\n",
       "history          64000\n",
       "used_discount    64000\n",
       "used_bogo        64000\n",
       "zip_code         64000\n",
       "is_referral      64000\n",
       "channel          64000\n",
       "offer            64000\n",
       "conversion       64000\n",
       "dtype: int64"
      ]
     },
     "execution_count": 4,
     "metadata": {},
     "output_type": "execute_result"
    }
   ],
   "source": [
    "df_data = pd.read_csv('data.csv')\n",
    "df_data.count()"
   ]
  },
  {
   "cell_type": "code",
   "execution_count": 5,
   "id": "f1353426",
   "metadata": {},
   "outputs": [
    {
     "name": "stdout",
     "output_type": "stream",
     "text": [
      "Discount Conversion Uplift: 7.66%\n",
      "Discount Order Uplift: 1631.89\n",
      "Discount Revenue Uplift: $40797.35\n",
      "\n",
      "BOGO Conversion Uplift: 4.52%\n",
      "BOGO Order Uplift: 967.4\n",
      "BOGO Revenue Uplift: $24185.01\n"
     ]
    }
   ],
   "source": [
    "#Calculating benchmark values\n",
    "disc_conv_benchmark ,disc_order_benchmark, disc_rev_benchmark = discount_calc_uplift(df_data)\n",
    "bogo_conv_benchmark ,bogo_order_benchmark, bogo_rev_benchmark = bogo_calc_uplift(df_data)"
   ]
  },
  {
   "cell_type": "code",
   "execution_count": 6,
   "id": "fa4ded2e",
   "metadata": {},
   "outputs": [
    {
     "data": {
      "text/html": [
       "<div>\n",
       "<style scoped>\n",
       "    .dataframe tbody tr th:only-of-type {\n",
       "        vertical-align: middle;\n",
       "    }\n",
       "\n",
       "    .dataframe tbody tr th {\n",
       "        vertical-align: top;\n",
       "    }\n",
       "\n",
       "    .dataframe thead th {\n",
       "        text-align: right;\n",
       "    }\n",
       "</style>\n",
       "<table border=\"1\" class=\"dataframe\">\n",
       "  <thead>\n",
       "    <tr style=\"text-align: right;\">\n",
       "      <th></th>\n",
       "      <th>recency</th>\n",
       "      <th>history</th>\n",
       "      <th>used_discount</th>\n",
       "      <th>used_bogo</th>\n",
       "      <th>zip_code</th>\n",
       "      <th>is_referral</th>\n",
       "      <th>channel</th>\n",
       "      <th>offer</th>\n",
       "      <th>conversion</th>\n",
       "      <th>campaign_group</th>\n",
       "    </tr>\n",
       "  </thead>\n",
       "  <tbody>\n",
       "    <tr>\n",
       "      <th>0</th>\n",
       "      <td>10</td>\n",
       "      <td>142.44</td>\n",
       "      <td>1</td>\n",
       "      <td>0</td>\n",
       "      <td>Surburban</td>\n",
       "      <td>0</td>\n",
       "      <td>Phone</td>\n",
       "      <td>Buy One Get One</td>\n",
       "      <td>0</td>\n",
       "      <td>treatment</td>\n",
       "    </tr>\n",
       "    <tr>\n",
       "      <th>1</th>\n",
       "      <td>6</td>\n",
       "      <td>329.08</td>\n",
       "      <td>1</td>\n",
       "      <td>1</td>\n",
       "      <td>Rural</td>\n",
       "      <td>1</td>\n",
       "      <td>Web</td>\n",
       "      <td>No Offer</td>\n",
       "      <td>0</td>\n",
       "      <td>control</td>\n",
       "    </tr>\n",
       "    <tr>\n",
       "      <th>2</th>\n",
       "      <td>7</td>\n",
       "      <td>180.65</td>\n",
       "      <td>0</td>\n",
       "      <td>1</td>\n",
       "      <td>Surburban</td>\n",
       "      <td>1</td>\n",
       "      <td>Web</td>\n",
       "      <td>Buy One Get One</td>\n",
       "      <td>0</td>\n",
       "      <td>treatment</td>\n",
       "    </tr>\n",
       "    <tr>\n",
       "      <th>3</th>\n",
       "      <td>9</td>\n",
       "      <td>675.83</td>\n",
       "      <td>1</td>\n",
       "      <td>0</td>\n",
       "      <td>Rural</td>\n",
       "      <td>1</td>\n",
       "      <td>Web</td>\n",
       "      <td>Discount</td>\n",
       "      <td>0</td>\n",
       "      <td>treatment</td>\n",
       "    </tr>\n",
       "    <tr>\n",
       "      <th>4</th>\n",
       "      <td>2</td>\n",
       "      <td>45.34</td>\n",
       "      <td>1</td>\n",
       "      <td>0</td>\n",
       "      <td>Urban</td>\n",
       "      <td>0</td>\n",
       "      <td>Web</td>\n",
       "      <td>Buy One Get One</td>\n",
       "      <td>0</td>\n",
       "      <td>treatment</td>\n",
       "    </tr>\n",
       "  </tbody>\n",
       "</table>\n",
       "</div>"
      ],
      "text/plain": [
       "   recency  history  used_discount  used_bogo   zip_code  is_referral channel  \\\n",
       "0       10   142.44              1          0  Surburban            0   Phone   \n",
       "1        6   329.08              1          1      Rural            1     Web   \n",
       "2        7   180.65              0          1  Surburban            1     Web   \n",
       "3        9   675.83              1          0      Rural            1     Web   \n",
       "4        2    45.34              1          0      Urban            0     Web   \n",
       "\n",
       "             offer  conversion campaign_group  \n",
       "0  Buy One Get One           0      treatment  \n",
       "1         No Offer           0        control  \n",
       "2  Buy One Get One           0      treatment  \n",
       "3         Discount           0      treatment  \n",
       "4  Buy One Get One           0      treatment  "
      ]
     },
     "execution_count": 6,
     "metadata": {},
     "output_type": "execute_result"
    }
   ],
   "source": [
    "df_data['campaign_group'] = 'treatment'\n",
    "df_data.loc[df_data.offer == 'No Offer', 'campaign_group'] = 'control'\n",
    "df_data.head()"
   ]
  },
  {
   "cell_type": "code",
   "execution_count": 7,
   "id": "89edea97",
   "metadata": {},
   "outputs": [],
   "source": [
    "df_data['target_class'] = 0 #CN\n",
    "df_data.loc[(df_data.campaign_group == 'control') & (df_data.conversion > 0),'target_class'] = 1 #CR\n",
    "df_data.loc[(df_data.campaign_group == 'treatment') & (df_data.conversion == 0),'target_class'] = 2 #TN\n",
    "df_data.loc[(df_data.campaign_group == 'treatment') & (df_data.conversion > 0),'target_class'] = 3 #TR"
   ]
  },
  {
   "cell_type": "code",
   "execution_count": 8,
   "id": "a186a297",
   "metadata": {},
   "outputs": [
    {
     "data": {
      "image/png": "[encoded data removed]",
      "text/plain": [
       "<Figure size 640x480 with 1 Axes>"
      ]
     },
     "metadata": {},
     "output_type": "display_data"
    }
   ],
   "source": [
    "Sum_of_squared_distances = []\n",
    "K = range(1,10)\n",
    "for num_clusters in K :\n",
    "    kmeans = KMeans(n_clusters=num_clusters)\n",
    "    kmeans.fit(df_data['history'].values.reshape(-1,1))\n",
    "    Sum_of_squared_distances.append(kmeans.inertia_)\n",
    "plt.plot(K,Sum_of_squared_distances,'bx-')\n",
    "plt.xlabel('Values of K') \n",
    "plt.ylabel('Sum of squared distances/Inertia') \n",
    "plt.title('Elbow Method For Optimal k')\n",
    "plt.show()"
   ]
  },
  {
   "cell_type": "code",
   "execution_count": 9,
   "id": "c789bbee",
   "metadata": {},
   "outputs": [],
   "source": [
    "#creating the clusters\n",
    "kmeans = KMeans(n_clusters=5)\n",
    "kmeans.fit(df_data[['history']])\n",
    "df_data['history_cluster'] = kmeans.predict(df_data[['history']])\n",
    "#order the clusters\n",
    "df_data = order_cluster('history_cluster', 'history',df_data,True)\n",
    "#creating a new dataframe as model and dropping columns that defines the label\n",
    "df_model = df_data.drop(['offer','campaign_group','conversion'],axis=1)\n",
    "#convert categorical columns\n",
    "df_model = pd.get_dummies(df_model)"
   ]
  },
  {
   "cell_type": "code",
   "execution_count": 10,
   "id": "c9cf88b6",
   "metadata": {},
   "outputs": [
    {
     "data": {
      "text/html": [
       "<div>\n",
       "<style scoped>\n",
       "    .dataframe tbody tr th:only-of-type {\n",
       "        vertical-align: middle;\n",
       "    }\n",
       "\n",
       "    .dataframe tbody tr th {\n",
       "        vertical-align: top;\n",
       "    }\n",
       "\n",
       "    .dataframe thead th {\n",
       "        text-align: right;\n",
       "    }\n",
       "</style>\n",
       "<table border=\"1\" class=\"dataframe\">\n",
       "  <thead>\n",
       "    <tr style=\"text-align: right;\">\n",
       "      <th></th>\n",
       "      <th>recency</th>\n",
       "      <th>history</th>\n",
       "      <th>used_discount</th>\n",
       "      <th>used_bogo</th>\n",
       "      <th>is_referral</th>\n",
       "      <th>target_class</th>\n",
       "      <th>history_cluster</th>\n",
       "      <th>zip_code_Rural</th>\n",
       "      <th>zip_code_Surburban</th>\n",
       "      <th>zip_code_Urban</th>\n",
       "      <th>channel_Multichannel</th>\n",
       "      <th>channel_Phone</th>\n",
       "      <th>channel_Web</th>\n",
       "    </tr>\n",
       "  </thead>\n",
       "  <tbody>\n",
       "    <tr>\n",
       "      <th>0</th>\n",
       "      <td>10</td>\n",
       "      <td>142.44</td>\n",
       "      <td>1</td>\n",
       "      <td>0</td>\n",
       "      <td>0</td>\n",
       "      <td>2</td>\n",
       "      <td>0</td>\n",
       "      <td>0</td>\n",
       "      <td>1</td>\n",
       "      <td>0</td>\n",
       "      <td>0</td>\n",
       "      <td>1</td>\n",
       "      <td>0</td>\n",
       "    </tr>\n",
       "    <tr>\n",
       "      <th>1</th>\n",
       "      <td>2</td>\n",
       "      <td>45.34</td>\n",
       "      <td>1</td>\n",
       "      <td>0</td>\n",
       "      <td>0</td>\n",
       "      <td>2</td>\n",
       "      <td>0</td>\n",
       "      <td>0</td>\n",
       "      <td>0</td>\n",
       "      <td>1</td>\n",
       "      <td>0</td>\n",
       "      <td>0</td>\n",
       "      <td>1</td>\n",
       "    </tr>\n",
       "    <tr>\n",
       "      <th>2</th>\n",
       "      <td>6</td>\n",
       "      <td>134.83</td>\n",
       "      <td>0</td>\n",
       "      <td>1</td>\n",
       "      <td>0</td>\n",
       "      <td>3</td>\n",
       "      <td>0</td>\n",
       "      <td>0</td>\n",
       "      <td>1</td>\n",
       "      <td>0</td>\n",
       "      <td>0</td>\n",
       "      <td>1</td>\n",
       "      <td>0</td>\n",
       "    </tr>\n",
       "    <tr>\n",
       "      <th>3</th>\n",
       "      <td>9</td>\n",
       "      <td>46.42</td>\n",
       "      <td>0</td>\n",
       "      <td>1</td>\n",
       "      <td>0</td>\n",
       "      <td>2</td>\n",
       "      <td>0</td>\n",
       "      <td>0</td>\n",
       "      <td>0</td>\n",
       "      <td>1</td>\n",
       "      <td>0</td>\n",
       "      <td>1</td>\n",
       "      <td>0</td>\n",
       "    </tr>\n",
       "    <tr>\n",
       "      <th>4</th>\n",
       "      <td>10</td>\n",
       "      <td>32.84</td>\n",
       "      <td>0</td>\n",
       "      <td>1</td>\n",
       "      <td>1</td>\n",
       "      <td>2</td>\n",
       "      <td>0</td>\n",
       "      <td>0</td>\n",
       "      <td>0</td>\n",
       "      <td>1</td>\n",
       "      <td>0</td>\n",
       "      <td>0</td>\n",
       "      <td>1</td>\n",
       "    </tr>\n",
       "    <tr>\n",
       "      <th>...</th>\n",
       "      <td>...</td>\n",
       "      <td>...</td>\n",
       "      <td>...</td>\n",
       "      <td>...</td>\n",
       "      <td>...</td>\n",
       "      <td>...</td>\n",
       "      <td>...</td>\n",
       "      <td>...</td>\n",
       "      <td>...</td>\n",
       "      <td>...</td>\n",
       "      <td>...</td>\n",
       "      <td>...</td>\n",
       "      <td>...</td>\n",
       "    </tr>\n",
       "    <tr>\n",
       "      <th>63995</th>\n",
       "      <td>2</td>\n",
       "      <td>1399.97</td>\n",
       "      <td>1</td>\n",
       "      <td>1</td>\n",
       "      <td>1</td>\n",
       "      <td>1</td>\n",
       "      <td>4</td>\n",
       "      <td>0</td>\n",
       "      <td>1</td>\n",
       "      <td>0</td>\n",
       "      <td>0</td>\n",
       "      <td>1</td>\n",
       "      <td>0</td>\n",
       "    </tr>\n",
       "    <tr>\n",
       "      <th>63996</th>\n",
       "      <td>1</td>\n",
       "      <td>1584.31</td>\n",
       "      <td>1</td>\n",
       "      <td>0</td>\n",
       "      <td>1</td>\n",
       "      <td>2</td>\n",
       "      <td>4</td>\n",
       "      <td>0</td>\n",
       "      <td>1</td>\n",
       "      <td>0</td>\n",
       "      <td>1</td>\n",
       "      <td>0</td>\n",
       "      <td>0</td>\n",
       "    </tr>\n",
       "    <tr>\n",
       "      <th>63997</th>\n",
       "      <td>1</td>\n",
       "      <td>1252.19</td>\n",
       "      <td>1</td>\n",
       "      <td>0</td>\n",
       "      <td>1</td>\n",
       "      <td>3</td>\n",
       "      <td>4</td>\n",
       "      <td>0</td>\n",
       "      <td>0</td>\n",
       "      <td>1</td>\n",
       "      <td>0</td>\n",
       "      <td>1</td>\n",
       "      <td>0</td>\n",
       "    </tr>\n",
       "    <tr>\n",
       "      <th>63998</th>\n",
       "      <td>2</td>\n",
       "      <td>1183.05</td>\n",
       "      <td>1</td>\n",
       "      <td>1</td>\n",
       "      <td>1</td>\n",
       "      <td>0</td>\n",
       "      <td>4</td>\n",
       "      <td>1</td>\n",
       "      <td>0</td>\n",
       "      <td>0</td>\n",
       "      <td>0</td>\n",
       "      <td>1</td>\n",
       "      <td>0</td>\n",
       "    </tr>\n",
       "    <tr>\n",
       "      <th>63999</th>\n",
       "      <td>1</td>\n",
       "      <td>1139.98</td>\n",
       "      <td>1</td>\n",
       "      <td>1</td>\n",
       "      <td>1</td>\n",
       "      <td>3</td>\n",
       "      <td>4</td>\n",
       "      <td>0</td>\n",
       "      <td>0</td>\n",
       "      <td>1</td>\n",
       "      <td>0</td>\n",
       "      <td>1</td>\n",
       "      <td>0</td>\n",
       "    </tr>\n",
       "  </tbody>\n",
       "</table>\n",
       "<p>64000 rows × 13 columns</p>\n",
       "</div>"
      ],
      "text/plain": [
       "       recency  history  used_discount  used_bogo  is_referral  target_class  \\\n",
       "0           10   142.44              1          0            0             2   \n",
       "1            2    45.34              1          0            0             2   \n",
       "2            6   134.83              0          1            0             3   \n",
       "3            9    46.42              0          1            0             2   \n",
       "4           10    32.84              0          1            1             2   \n",
       "...        ...      ...            ...        ...          ...           ...   \n",
       "63995        2  1399.97              1          1            1             1   \n",
       "63996        1  1584.31              1          0            1             2   \n",
       "63997        1  1252.19              1          0            1             3   \n",
       "63998        2  1183.05              1          1            1             0   \n",
       "63999        1  1139.98              1          1            1             3   \n",
       "\n",
       "       history_cluster  zip_code_Rural  zip_code_Surburban  zip_code_Urban  \\\n",
       "0                    0               0                   1               0   \n",
       "1                    0               0                   0               1   \n",
       "2                    0               0                   1               0   \n",
       "3                    0               0                   0               1   \n",
       "4                    0               0                   0               1   \n",
       "...                ...             ...                 ...             ...   \n",
       "63995                4               0                   1               0   \n",
       "63996                4               0                   1               0   \n",
       "63997                4               0                   0               1   \n",
       "63998                4               1                   0               0   \n",
       "63999                4               0                   0               1   \n",
       "\n",
       "       channel_Multichannel  channel_Phone  channel_Web  \n",
       "0                         0              1            0  \n",
       "1                         0              0            1  \n",
       "2                         0              1            0  \n",
       "3                         0              1            0  \n",
       "4                         0              0            1  \n",
       "...                     ...            ...          ...  \n",
       "63995                     0              1            0  \n",
       "63996                     1              0            0  \n",
       "63997                     0              1            0  \n",
       "63998                     0              1            0  \n",
       "63999                     0              1            0  \n",
       "\n",
       "[64000 rows x 13 columns]"
      ]
     },
     "execution_count": 10,
     "metadata": {},
     "output_type": "execute_result"
    }
   ],
   "source": [
    "df_model"
   ]
  },
  {
   "cell_type": "code",
   "execution_count": 11,
   "id": "7ee5a38e",
   "metadata": {},
   "outputs": [
    {
     "name": "stderr",
     "output_type": "stream",
     "text": [
      "C:\\Users\\Haresh\\anaconda3\\lib\\site-packages\\xgboost\\sklearn.py:1224: UserWarning: The use of label encoder in XGBClassifier is deprecated and will be removed in a future release. To remove this warning, do the following: 1) Pass option use_label_encoder=False when constructing XGBClassifier object; and 2) Encode your labels (y) as integers starting with 0, i.e. 0, 1, 2, ..., [num_class - 1].\n",
      "  warnings.warn(label_encoder_deprecation_msg, UserWarning)\n",
      "C:\\Users\\Haresh\\anaconda3\\lib\\site-packages\\xgboost\\data.py:262: FutureWarning: pandas.Int64Index is deprecated and will be removed from pandas in a future version. Use pandas.Index with the appropriate dtype instead.\n",
      "  elif isinstance(data.columns, (pd.Int64Index, pd.RangeIndex)):\n"
     ]
    },
    {
     "name": "stdout",
     "output_type": "stream",
     "text": [
      "[12:13:20] WARNING: C:/Users/Administrator/workspace/xgboost-win64_release_1.5.1/src/learner.cc:1115: Starting in XGBoost 1.3.0, the default evaluation metric used with the objective 'multi:softprob' was changed from 'merror' to 'mlogloss'. Explicitly set eval_metric if you'd like to restore the old behavior.\n"
     ]
    }
   ],
   "source": [
    "#create feature set and labels\n",
    "X = df_model.drop(['target_class'],axis=1)\n",
    "y = df_model.target_class\n",
    "#splitting train and test groups\n",
    "X_train, X_test, y_train, y_test = train_test_split(X, y, test_size=0.2, random_state=56)\n",
    "#fitting the model and predicting the probabilities\n",
    "xgb_model = xgb.XGBClassifier().fit(X_train, y_train)\n",
    "class_probs = xgb_model.predict_proba(X_test)"
   ]
  },
  {
   "cell_type": "code",
   "execution_count": 12,
   "id": "a8362563",
   "metadata": {},
   "outputs": [
    {
     "data": {
      "text/plain": [
       "array([0.24962305, 0.02440981, 0.62443364, 0.10153349], dtype=float32)"
      ]
     },
     "execution_count": 12,
     "metadata": {},
     "output_type": "execute_result"
    }
   ],
   "source": [
    "class_probs[0]"
   ]
  },
  {
   "cell_type": "code",
   "execution_count": 13,
   "id": "f57766ea",
   "metadata": {},
   "outputs": [
    {
     "name": "stderr",
     "output_type": "stream",
     "text": [
      "C:\\Users\\Haresh\\anaconda3\\lib\\site-packages\\xgboost\\data.py:262: FutureWarning: pandas.Int64Index is deprecated and will be removed from pandas in a future version. Use pandas.Index with the appropriate dtype instead.\n",
      "  elif isinstance(data.columns, (pd.Int64Index, pd.RangeIndex)):\n"
     ]
    }
   ],
   "source": [
    "#probabilities for all customers\n",
    "overall_proba = xgb_model.predict_proba(df_model.drop(['target_class'],axis=1))\n",
    "#assign probabilities to 4 different columns\n",
    "df_model['proba_CN'] = overall_proba[:,0] \n",
    "df_model['proba_CR'] = overall_proba[:,1] \n",
    "df_model['proba_TN'] = overall_proba[:,2] \n",
    "df_model['proba_TR'] = overall_proba[:,3]\n",
    "#calculate uplift score for all customers\n",
    "df_model['uplift_score'] = df_model.eval('proba_CN + proba_TR - proba_TN - proba_CR')\n",
    "#assign it back to main dataframe\n",
    "df_data['uplift_score'] = df_model['uplift_score']"
   ]
  },
  {
   "cell_type": "code",
   "execution_count": 14,
   "id": "ed656ae3",
   "metadata": {},
   "outputs": [
    {
     "name": "stdout",
     "output_type": "stream",
     "text": [
      "Discount Conversion Uplift: 29.82%\n",
      "Discount Order Uplift: 1361.36\n",
      "Discount Revenue Uplift: $34034.0\n",
      "\n"
     ]
    }
   ],
   "source": [
    "df_data_lift = df_data.copy()\n",
    "uplift_q_75 = df_data_lift.uplift_score.quantile(0.75)\n",
    "df_data_lift = df_data_lift[(df_data_lift.offer != 'Buy One Get One') & (df_data_lift.uplift_score > uplift_q_75)].reset_index(drop=True)\n",
    "#calculate the uplift\n",
    "disc_conv_q75 ,disc_order_q75, disc_rev_q75 = discount_calc_uplift(df_data_lift)"
   ]
  },
  {
   "cell_type": "code",
   "execution_count": 15,
   "id": "a0997f2c",
   "metadata": {},
   "outputs": [
    {
     "name": "stdout",
     "output_type": "stream",
     "text": [
      "Discount Conversion Uplift: 58.09%\n",
      "Discount Order Uplift: 424.04\n",
      "Discount Revenue Uplift: $10600.91\n",
      "\n"
     ]
    }
   ],
   "source": [
    "uplift_q_80 = df_data_lift.uplift_score.quantile(0.80)\n",
    "df_data_lift = df_data_lift[(df_data_lift.offer != 'Buy One Get One') & (df_data_lift.uplift_score > uplift_q_80)].reset_index(drop=True)\n",
    "#calculate the uplift\n",
    "disc_conv_q80 ,disc_order_q80, disc_rev_q80 = discount_calc_uplift(df_data_lift)"
   ]
  },
  {
   "cell_type": "code",
   "execution_count": 16,
   "id": "418f5679",
   "metadata": {},
   "outputs": [
    {
     "name": "stdout",
     "output_type": "stream",
     "text": [
      "Discount Conversion Uplift: 44.99%\n",
      "Discount Order Uplift: 64.34\n",
      "Discount Revenue Uplift: $1608.46\n",
      "\n"
     ]
    }
   ],
   "source": [
    "uplift_q_2 = df_data_lift.uplift_score.quantile(0.2)\n",
    "df_data_lift = df_data_lift[(df_data_lift.offer != 'Buy One Get One') & (df_data_lift.uplift_score < uplift_q_2)].reset_index(drop=True)\n",
    "#calculate the uplift\n",
    "disc_conv_q20 ,disc_order_q20, disc_rev_below_q20 = discount_calc_uplift(df_data_lift)"
   ]
  },
  {
   "cell_type": "code",
   "execution_count": 17,
   "id": "52883a4e",
   "metadata": {},
   "outputs": [
    {
     "name": "stdout",
     "output_type": "stream",
     "text": [
      "Discount Conversion Uplift: 51.46%\n",
      "Discount Order Uplift: 20.07\n",
      "Discount Revenue Uplift: $501.73\n",
      "\n"
     ]
    }
   ],
   "source": [
    "uplift_q_3 = df_data_lift.uplift_score.quantile(0.3)\n",
    "df_data_lift = df_data_lift[(df_data_lift.offer != 'Buy One Get One') & (df_data_lift.uplift_score < uplift_q_3)].reset_index(drop=True)\n",
    "#calculate the uplift\n",
    "disc_conv_q30 ,disc_order_q30, disc_rev_below_q30 = discount_calc_uplift(df_data_lift)"
   ]
  },
  {
   "cell_type": "code",
   "execution_count": 18,
   "id": "d445ba18",
   "metadata": {},
   "outputs": [
    {
     "name": "stdout",
     "output_type": "stream",
     "text": [
      "Discount Conversion Uplift: 61.25%\n",
      "Discount Order Uplift: 9.8\n",
      "Discount Revenue Uplift: $245.0\n",
      "\n"
     ]
    }
   ],
   "source": [
    "uplift_q_4 = df_data_lift.uplift_score.quantile(0.4)\n",
    "df_data_lift = df_data_lift[(df_data_lift.offer != 'Buy One Get One') & (df_data_lift.uplift_score < uplift_q_4)].reset_index(drop=True)\n",
    "#calculate the uplift\n",
    "disc_conv_q40 ,disc_order_q40, disc_rev_below_q40 = discount_calc_uplift(df_data_lift)"
   ]
  },
  {
   "cell_type": "code",
   "execution_count": 25,
   "id": "fd969465",
   "metadata": {},
   "outputs": [
    {
     "name": "stdout",
     "output_type": "stream",
     "text": [
      "Discount Conversion Uplift: nan%\n",
      "Discount Order Uplift: nan\n",
      "Discount Revenue Uplift: $nan\n",
      "\n"
     ]
    }
   ],
   "source": [
    "uplift_q_50 = df_data_lift.uplift_score.quantile(0.5)\n",
    "df_data_lift = df_data_lift[(df_data_lift.offer != 'Buy One Get One') & (df_data_lift.uplift_score < uplift_q_5)].reset_index(drop=True)\n",
    "#calculate the uplift\n",
    "disc_conv_q50 ,disc_order_q50, disc_rev_below_q50 = discount_calc_uplift(df_data_lift)"
   ]
  },
  {
   "cell_type": "code",
   "execution_count": 29,
   "id": "542035af",
   "metadata": {},
   "outputs": [
    {
     "name": "stdout",
     "output_type": "stream",
     "text": [
      "BOGO Conversion Uplift: nan%\n",
      "BOGO Order Uplift: nan\n",
      "BOGO Revenue Uplift: $nan\n"
     ]
    }
   ],
   "source": [
    "uplift_q_40 = df_data_lift.uplift_score.quantile(0.4)\n",
    "df_data_lift = df_data_lift[(df_data_lift.offer != 'Discount') & (df_data_lift.uplift_score < uplift_q_40)].reset_index(drop=True)\n",
    "#calculate the uplift\n",
    "bogo_conv_q40 ,bogo_order_q40, bogo_rev_below_q40 = bogo_calc_uplift(df_data_lift)"
   ]
  },
  {
   "cell_type": "code",
   "execution_count": 27,
   "id": "df1ae168",
   "metadata": {},
   "outputs": [
    {
     "name": "stdout",
     "output_type": "stream",
     "text": [
      "BOGO Conversion Uplift: nan%\n",
      "BOGO Order Uplift: nan\n",
      "BOGO Revenue Uplift: $nan\n"
     ]
    }
   ],
   "source": [
    "uplift_q_50 = df_data_lift.uplift_score.quantile(0.5)\n",
    "df_data_lift = df_data_lift[(df_data_lift.offer != 'Discount') & (df_data_lift.uplift_score < uplift_q_50)].reset_index(drop=True)\n",
    "#calculate the uplift\n",
    "bogo_conv_q50 ,bogo_order_q50, bogo_rev_below_q50 = bogo_calc_uplift(df_data_lift)"
   ]
  },
  {
   "cell_type": "code",
   "execution_count": 20,
   "id": "a0b0743c",
   "metadata": {},
   "outputs": [
    {
     "name": "stdout",
     "output_type": "stream",
     "text": [
      "BOGO Conversion Uplift: nan%\n",
      "BOGO Order Uplift: nan\n",
      "BOGO Revenue Uplift: $nan\n"
     ]
    }
   ],
   "source": [
    "uplift_q_75 = df_data_lift.uplift_score.quantile(0.75)\n",
    "df_data_lift = df_data_lift[(df_data_lift.offer != 'Discount') & (df_data_lift.uplift_score > uplift_q_75)].reset_index(drop=True)\n",
    "#calculate the uplift\n",
    "bogo_conv_q75 ,bogo_order_q75, bogo_rev_q75 = bogo_calc_uplift(df_data_lift)"
   ]
  },
  {
   "cell_type": "code",
   "execution_count": 23,
   "id": "6077ff9d",
   "metadata": {},
   "outputs": [
    {
     "name": "stdout",
     "output_type": "stream",
     "text": [
      "BOGO Conversion Uplift: nan%\n",
      "BOGO Order Uplift: nan\n",
      "BOGO Revenue Uplift: $nan\n"
     ]
    }
   ],
   "source": [
    "uplift_q_80 = df_data_lift.uplift_score.quantile(0.80)\n",
    "df_data_lift = df_data_lift[(df_data_lift.offer != 'Discount') & (df_data_lift.uplift_score > uplift_q_75)].reset_index(drop=True)\n",
    "#calculate the uplift\n",
    "bogo_conv_q80 ,bogo_order_q80, bogo_rev_q80 = bogo_calc_uplift(df_data_lift)"
   ]
  },
  {
   "cell_type": "code",
   "execution_count": 21,
   "id": "c47b1347",
   "metadata": {},
   "outputs": [],
   "source": [
    "disc_rev_benchmark = float(disc_rev_benchmark)\n",
    "disc_rev_q75 = float(disc_rev_q75)\n",
    "disc_rev_q80 = float(disc_rev_q80)\n",
    "disc_rev_below_q50 = float(disc_rev_below_q50)\n",
    "disc_rev_below_q40 = float(disc_rev_below_q40)\n",
    "disc_rev_below_q30 = float(disc_rev_below_q30)\n",
    "disc_rev_below_q20 = float(disc_rev_below_q20)"
   ]
  },
  {
   "cell_type": "code",
   "execution_count": 30,
   "id": "b2b73102",
   "metadata": {},
   "outputs": [
    {
     "ename": "NameError",
     "evalue": "name 'bogo_rev_below_q30' is not defined",
     "output_type": "error",
     "traceback": [
      "\u001b[1;31m---------------------------------------------------------------------------\u001b[0m",
      "\u001b[1;31mNameError\u001b[0m                                 Traceback (most recent call last)",
      "Input \u001b[1;32mIn [30]\u001b[0m, in \u001b[0;36m<cell line: 6>\u001b[1;34m()\u001b[0m\n\u001b[0;32m      4\u001b[0m bogo_rev_below_q50 \u001b[38;5;241m=\u001b[39m \u001b[38;5;28mfloat\u001b[39m(bogo_rev_below_q50)\n\u001b[0;32m      5\u001b[0m bogo_rev_below_q40 \u001b[38;5;241m=\u001b[39m \u001b[38;5;28mfloat\u001b[39m(bogo_rev_below_q40)\n\u001b[1;32m----> 6\u001b[0m bogo_rev_below_q30 \u001b[38;5;241m=\u001b[39m \u001b[38;5;28mfloat\u001b[39m(\u001b[43mbogo_rev_below_q30\u001b[49m)\n\u001b[0;32m      7\u001b[0m bogo_rev_below_q20 \u001b[38;5;241m=\u001b[39m \u001b[38;5;28mfloat\u001b[39m(bogo_rev_below_q20)\n",
      "\u001b[1;31mNameError\u001b[0m: name 'bogo_rev_below_q30' is not defined"
     ]
    }
   ],
   "source": [
    "bogo_rev_benchmark = float(bogo_rev_benchmark)\n",
    "bogo_rev_q75 = float(bogo_rev_q75)\n",
    "bogo_rev_q80 = float(bogo_rev_q80)\n",
    "bogo_rev_below_q50 = float(bogo_rev_below_q50)\n",
    "bogo_rev_below_q40 = float(bogo_rev_below_q40)\n",
    "bogo_rev_below_q30 = float(bogo_rev_below_q30)\n",
    "bogo_rev_below_q20 = float(bogo_rev_below_q20)"
   ]
  },
  {
   "cell_type": "code",
   "execution_count": 70,
   "id": "8a26cc6a",
   "metadata": {},
   "outputs": [
    {
     "data": {
      "text/html": [
       "<div>\n",
       "<style scoped>\n",
       "    .dataframe tbody tr th:only-of-type {\n",
       "        vertical-align: middle;\n",
       "    }\n",
       "\n",
       "    .dataframe tbody tr th {\n",
       "        vertical-align: top;\n",
       "    }\n",
       "\n",
       "    .dataframe thead th {\n",
       "        text-align: right;\n",
       "    }\n",
       "</style>\n",
       "<table border=\"1\" class=\"dataframe\">\n",
       "  <thead>\n",
       "    <tr style=\"text-align: right;\">\n",
       "      <th></th>\n",
       "      <th>recency</th>\n",
       "      <th>history</th>\n",
       "      <th>used_discount</th>\n",
       "      <th>used_bogo</th>\n",
       "      <th>zip_code</th>\n",
       "      <th>is_referral</th>\n",
       "      <th>channel</th>\n",
       "      <th>offer</th>\n",
       "      <th>conversion</th>\n",
       "      <th>campaign_group</th>\n",
       "      <th>target_class</th>\n",
       "      <th>history_cluster</th>\n",
       "      <th>uplift_score</th>\n",
       "    </tr>\n",
       "  </thead>\n",
       "  <tbody>\n",
       "    <tr>\n",
       "      <th>0</th>\n",
       "      <td>11</td>\n",
       "      <td>53.81</td>\n",
       "      <td>1</td>\n",
       "      <td>0</td>\n",
       "      <td>Urban</td>\n",
       "      <td>1</td>\n",
       "      <td>Phone</td>\n",
       "      <td>No Offer</td>\n",
       "      <td>0</td>\n",
       "      <td>control</td>\n",
       "      <td>0</td>\n",
       "      <td>0</td>\n",
       "      <td>-0.373038</td>\n",
       "    </tr>\n",
       "    <tr>\n",
       "      <th>1</th>\n",
       "      <td>11</td>\n",
       "      <td>146.04</td>\n",
       "      <td>0</td>\n",
       "      <td>1</td>\n",
       "      <td>Surburban</td>\n",
       "      <td>1</td>\n",
       "      <td>Phone</td>\n",
       "      <td>Discount</td>\n",
       "      <td>0</td>\n",
       "      <td>treatment</td>\n",
       "      <td>2</td>\n",
       "      <td>0</td>\n",
       "      <td>-0.392076</td>\n",
       "    </tr>\n",
       "    <tr>\n",
       "      <th>2</th>\n",
       "      <td>8</td>\n",
       "      <td>48.87</td>\n",
       "      <td>1</td>\n",
       "      <td>0</td>\n",
       "      <td>Surburban</td>\n",
       "      <td>1</td>\n",
       "      <td>Web</td>\n",
       "      <td>Discount</td>\n",
       "      <td>0</td>\n",
       "      <td>treatment</td>\n",
       "      <td>2</td>\n",
       "      <td>0</td>\n",
       "      <td>-0.393731</td>\n",
       "    </tr>\n",
       "    <tr>\n",
       "      <th>3</th>\n",
       "      <td>2</td>\n",
       "      <td>145.76</td>\n",
       "      <td>0</td>\n",
       "      <td>1</td>\n",
       "      <td>Surburban</td>\n",
       "      <td>1</td>\n",
       "      <td>Web</td>\n",
       "      <td>No Offer</td>\n",
       "      <td>1</td>\n",
       "      <td>control</td>\n",
       "      <td>1</td>\n",
       "      <td>0</td>\n",
       "      <td>-0.406186</td>\n",
       "    </tr>\n",
       "    <tr>\n",
       "      <th>4</th>\n",
       "      <td>10</td>\n",
       "      <td>55.11</td>\n",
       "      <td>1</td>\n",
       "      <td>0</td>\n",
       "      <td>Urban</td>\n",
       "      <td>1</td>\n",
       "      <td>Web</td>\n",
       "      <td>Discount</td>\n",
       "      <td>0</td>\n",
       "      <td>treatment</td>\n",
       "      <td>2</td>\n",
       "      <td>0</td>\n",
       "      <td>-0.410224</td>\n",
       "    </tr>\n",
       "    <tr>\n",
       "      <th>...</th>\n",
       "      <td>...</td>\n",
       "      <td>...</td>\n",
       "      <td>...</td>\n",
       "      <td>...</td>\n",
       "      <td>...</td>\n",
       "      <td>...</td>\n",
       "      <td>...</td>\n",
       "      <td>...</td>\n",
       "      <td>...</td>\n",
       "      <td>...</td>\n",
       "      <td>...</td>\n",
       "      <td>...</td>\n",
       "      <td>...</td>\n",
       "    </tr>\n",
       "    <tr>\n",
       "      <th>1507</th>\n",
       "      <td>1</td>\n",
       "      <td>1259.69</td>\n",
       "      <td>0</td>\n",
       "      <td>1</td>\n",
       "      <td>Urban</td>\n",
       "      <td>1</td>\n",
       "      <td>Phone</td>\n",
       "      <td>Discount</td>\n",
       "      <td>0</td>\n",
       "      <td>treatment</td>\n",
       "      <td>2</td>\n",
       "      <td>4</td>\n",
       "      <td>-0.611598</td>\n",
       "    </tr>\n",
       "    <tr>\n",
       "      <th>1508</th>\n",
       "      <td>1</td>\n",
       "      <td>1788.90</td>\n",
       "      <td>0</td>\n",
       "      <td>1</td>\n",
       "      <td>Surburban</td>\n",
       "      <td>1</td>\n",
       "      <td>Phone</td>\n",
       "      <td>Discount</td>\n",
       "      <td>0</td>\n",
       "      <td>treatment</td>\n",
       "      <td>2</td>\n",
       "      <td>4</td>\n",
       "      <td>-0.816178</td>\n",
       "    </tr>\n",
       "    <tr>\n",
       "      <th>1509</th>\n",
       "      <td>1</td>\n",
       "      <td>2039.13</td>\n",
       "      <td>0</td>\n",
       "      <td>1</td>\n",
       "      <td>Rural</td>\n",
       "      <td>1</td>\n",
       "      <td>Web</td>\n",
       "      <td>Discount</td>\n",
       "      <td>0</td>\n",
       "      <td>treatment</td>\n",
       "      <td>2</td>\n",
       "      <td>4</td>\n",
       "      <td>-0.703880</td>\n",
       "    </tr>\n",
       "    <tr>\n",
       "      <th>1510</th>\n",
       "      <td>1</td>\n",
       "      <td>1263.98</td>\n",
       "      <td>1</td>\n",
       "      <td>0</td>\n",
       "      <td>Surburban</td>\n",
       "      <td>1</td>\n",
       "      <td>Web</td>\n",
       "      <td>Discount</td>\n",
       "      <td>0</td>\n",
       "      <td>treatment</td>\n",
       "      <td>2</td>\n",
       "      <td>4</td>\n",
       "      <td>-0.594705</td>\n",
       "    </tr>\n",
       "    <tr>\n",
       "      <th>1511</th>\n",
       "      <td>1</td>\n",
       "      <td>1584.31</td>\n",
       "      <td>1</td>\n",
       "      <td>0</td>\n",
       "      <td>Surburban</td>\n",
       "      <td>1</td>\n",
       "      <td>Multichannel</td>\n",
       "      <td>Discount</td>\n",
       "      <td>0</td>\n",
       "      <td>treatment</td>\n",
       "      <td>2</td>\n",
       "      <td>4</td>\n",
       "      <td>-0.403909</td>\n",
       "    </tr>\n",
       "  </tbody>\n",
       "</table>\n",
       "<p>1512 rows × 13 columns</p>\n",
       "</div>"
      ],
      "text/plain": [
       "      recency  history  used_discount  used_bogo   zip_code  is_referral  \\\n",
       "0          11    53.81              1          0      Urban            1   \n",
       "1          11   146.04              0          1  Surburban            1   \n",
       "2           8    48.87              1          0  Surburban            1   \n",
       "3           2   145.76              0          1  Surburban            1   \n",
       "4          10    55.11              1          0      Urban            1   \n",
       "...       ...      ...            ...        ...        ...          ...   \n",
       "1507        1  1259.69              0          1      Urban            1   \n",
       "1508        1  1788.90              0          1  Surburban            1   \n",
       "1509        1  2039.13              0          1      Rural            1   \n",
       "1510        1  1263.98              1          0  Surburban            1   \n",
       "1511        1  1584.31              1          0  Surburban            1   \n",
       "\n",
       "           channel     offer  conversion campaign_group  target_class  \\\n",
       "0            Phone  No Offer           0        control             0   \n",
       "1            Phone  Discount           0      treatment             2   \n",
       "2              Web  Discount           0      treatment             2   \n",
       "3              Web  No Offer           1        control             1   \n",
       "4              Web  Discount           0      treatment             2   \n",
       "...            ...       ...         ...            ...           ...   \n",
       "1507         Phone  Discount           0      treatment             2   \n",
       "1508         Phone  Discount           0      treatment             2   \n",
       "1509           Web  Discount           0      treatment             2   \n",
       "1510           Web  Discount           0      treatment             2   \n",
       "1511  Multichannel  Discount           0      treatment             2   \n",
       "\n",
       "      history_cluster  uplift_score  \n",
       "0                   0     -0.373038  \n",
       "1                   0     -0.392076  \n",
       "2                   0     -0.393731  \n",
       "3                   0     -0.406186  \n",
       "4                   0     -0.410224  \n",
       "...               ...           ...  \n",
       "1507                4     -0.611598  \n",
       "1508                4     -0.816178  \n",
       "1509                4     -0.703880  \n",
       "1510                4     -0.594705  \n",
       "1511                4     -0.403909  \n",
       "\n",
       "[1512 rows x 13 columns]"
      ]
     },
     "execution_count": 70,
     "metadata": {},
     "output_type": "execute_result"
    }
   ],
   "source": [
    "df_data_lift"
   ]
  },
  {
   "cell_type": "code",
   "execution_count": 71,
   "id": "5d67cda0",
   "metadata": {},
   "outputs": [
    {
     "data": {
      "image/png": "[encoded data removed]",
      "text/plain": [
       "<Figure size 700x500 with 1 Axes>"
      ]
     },
     "metadata": {},
     "output_type": "display_data"
    }
   ],
   "source": [
    "fig = plt.figure(figsize = (7, 5))\n",
    "\n",
    "# creating the bar plot\n",
    "xlabels = [\"Benchmark\",\"75 quantile\",\"80 quantile\"]\n",
    "disc_ylabels = [disc_rev_benchmark, disc_rev_q75,disc_rev_q80]\n",
    "\n",
    "plt.barh(xlabels,disc_ylabels,height = 0.2, color = 'maroon')\n",
    "\n",
    "plt.title(\"Revenue Gain Comparison for discount treatment\")\n",
    "plt.show()"
   ]
  },
  {
   "cell_type": "code",
   "execution_count": 75,
   "id": "08e2fe15",
   "metadata": {},
   "outputs": [
    {
     "data": {
      "image/png": "[encoded data removed]",
      "text/plain": [
       "<Figure size 700x500 with 1 Axes>"
      ]
     },
     "metadata": {},
     "output_type": "display_data"
    }
   ],
   "source": [
    "fig = plt.figure(figsize = (7, 5))\n",
    "\n",
    "# creating the bar plot\n",
    "xlabels = [\"Below 50 quantile\",\"Below 40 quantile\",\"Below 30 quantile\",\"Below 20 quantile\"]\n",
    "disc_ylabels = [disc_rev_below_q50,disc_rev_below_q40, disc_rev_below_q30, disc_rev_below_q20]\n",
    "\n",
    "plt.barh(xlabels,disc_ylabels,height = 0.2, color = 'maroon')\n",
    "\n",
    "plt.title(\"Revenue Loss Comparison for discount treatment\")\n",
    "plt.show()"
   ]
  },
  {
   "cell_type": "code",
   "execution_count": null,
   "id": "02221cd2",
   "metadata": {},
   "outputs": [],
   "source": [
    "fig = plt.figure(figsize = (7, 5))\n",
    "\n",
    "# creating the bar plot\n",
    "xlabels = [\"Benchmark\",\"75 quantile\",\"80 quantile\"]\n",
    "disc_ylabels = [bogo_rev_benchmark, bogo_rev_q75,bogo_rev_q80]\n",
    "\n",
    "plt.barh(xlabels,disc_ylabels,height = 0.2, color = 'purple')\n",
    "\n",
    "plt.title(\"Revenue Gain Comparison for buy one get one treatment\")\n",
    "plt.show()"
   ]
  },
  {
   "cell_type": "code",
   "execution_count": null,
   "id": "ebcb1e4f",
   "metadata": {},
   "outputs": [],
   "source": [
    "fig = plt.figure(figsize = (7, 5))\n",
    "\n",
    "# creating the bar plot\n",
    "xlabels = [\"Below 50 quantile\",\"Below 40 quantile\",\"Below 30 quantile\",\"Below 20 quantile\"]\n",
    "disc_ylabels = [bogo_rev_below_q50,bogo_rev_below_q40, bogo_rev_below_q30, bogo_rev_below_q20]\n",
    "\n",
    "plt.barh(xlabels,disc_ylabels,height = 0.2, color = 'maroon')\n",
    "\n",
    "plt.title(\"Revenue Loss Comparison for buy one get one treatment\")\n",
    "plt.show()"
   ]
  },
  {
   "cell_type": "code",
   "execution_count": 23,
   "id": "0da20816",
   "metadata": {},
   "outputs": [
    {
     "data": {
      "image/png": "[encoded data removed]",
      "text/plain": [
       "<Figure size 640x480 with 1 Axes>"
      ]
     },
     "metadata": {},
     "output_type": "display_data"
    }
   ],
   "source": [
    "y = class_probs[15]\n",
    "mylabels = [\"CN\", \"CR\", \"TN\", \"TR\"]\n",
    "plt.pie(y, labels=mylabels, autopct='%1.0f%%')\n",
    "#plt.pie(y, labels = mylabels, startangle = 90)\n",
    "plt.show() "
   ]
  },
  {
   "cell_type": "code",
   "execution_count": 24,
   "id": "c9bbf2e6",
   "metadata": {},
   "outputs": [
    {
     "data": {
      "text/plain": [
       "array([0.3015881 , 0.04023404, 0.5834536 , 0.0747243 ], dtype=float32)"
      ]
     },
     "execution_count": 24,
     "metadata": {},
     "output_type": "execute_result"
    }
   ],
   "source": [
    "class_probs[0]"
   ]
  },
  {
   "cell_type": "code",
   "execution_count": null,
   "id": "f2ec26a3",
   "metadata": {},
   "outputs": [],
   "source": []
  },
  {
   "cell_type": "code",
   "execution_count": null,
   "id": "47639a1e",
   "metadata": {},
   "outputs": [],
   "source": []
  }
 ],
 "metadata": {
  "kernelspec": {
   "display_name": "Python 3 (ipykernel)",
   "language": "python",
   "name": "python3"
  },
  "language_info": {
   "codemirror_mode": {
    "name": "ipython",
    "version": 3
   },
   "file_extension": ".py",
   "mimetype": "text/x-python",
   "name": "python",
   "nbconvert_exporter": "python",
   "pygments_lexer": "ipython3",
   "version": "3.9.7"
  }
 },
 "nbformat": 4,
 "nbformat_minor": 5
}
